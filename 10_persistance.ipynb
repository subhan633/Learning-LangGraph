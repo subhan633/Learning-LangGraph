{
 "cells": [
  {
   "cell_type": "code",
   "execution_count": 1,
   "id": "df3d974c",
   "metadata": {},
   "outputs": [],
   "source": [
    "import os\n",
    "from langgraph.graph import StateGraph, START, END\n",
    "from langchain_groq import ChatGroq\n",
    "from typing import TypedDict\n",
    "from langgraph.checkpoint.memory import InMemorySaver\n",
    "from dotenv import load_dotenv"
   ]
  },
  {
   "cell_type": "code",
   "execution_count": 2,
   "id": "533445cb",
   "metadata": {},
   "outputs": [],
   "source": [
    "# Load environment variables from .env file\n",
    "load_dotenv()\n",
    "\n",
    "# Get the API key from environment variables\n",
    "groq_api_key = os.getenv(\"GROQ_API_KEY\")"
   ]
  },
  {
   "cell_type": "code",
   "execution_count": 3,
   "id": "666abc4e",
   "metadata": {},
   "outputs": [],
   "source": [
    "# Initialize the Groq model\n",
    "model = ChatGroq(\n",
    "    api_key=groq_api_key,\n",
    "    model=\"llama-3.3-70b-versatile\",\n",
    "    temperature=0.7,          # Adjust for response randomness\n",
    ")"
   ]
  },
  {
   "cell_type": "code",
   "execution_count": 4,
   "id": "082d07fd",
   "metadata": {},
   "outputs": [],
   "source": [
    "class JokeState(TypedDict):\n",
    "\n",
    "    topic: str\n",
    "    joke: str\n",
    "    explanation: str"
   ]
  },
  {
   "cell_type": "code",
   "execution_count": 6,
   "id": "714a656e",
   "metadata": {},
   "outputs": [],
   "source": [
    "def joke_generate(state: JokeState):\n",
    "\n",
    "    prompt = f'Generate a joke on this topic {state[\"topic\"]}'\n",
    "    response = model.invoke(prompt).content\n",
    "\n",
    "    return {'joke': response}"
   ]
  },
  {
   "cell_type": "code",
   "execution_count": 7,
   "id": "0576bb3e",
   "metadata": {},
   "outputs": [],
   "source": [
    "def joke_explain(state: JokeState):\n",
    "\n",
    "    prompt = f'Write an explanation of this joke {state[\"joke\"]}'\n",
    "    response = model.invoke(prompt).content\n",
    "\n",
    "    return {'explanation': response}"
   ]
  },
  {
   "cell_type": "code",
   "execution_count": 8,
   "id": "69f17adb",
   "metadata": {},
   "outputs": [],
   "source": [
    "graph = StateGraph(JokeState)\n",
    "\n",
    "graph.add_node('joke_generate', joke_generate)\n",
    "graph.add_node('joke_explain', joke_explain)\n",
    "\n",
    "graph.add_edge(START, 'joke_generate')\n",
    "graph.add_edge('joke_generate', 'joke_explain')\n",
    "graph.add_edge('joke_explain', END)\n",
    "\n",
    "checkpointer = InMemorySaver()\n",
    "\n",
    "workflow = graph.compile(checkpointer=checkpointer)"
   ]
  },
  {
   "cell_type": "code",
   "execution_count": 12,
   "id": "f7d91065",
   "metadata": {},
   "outputs": [
    {
     "data": {
      "text/plain": [
       "{'topic': 'pizza',\n",
       " 'joke': 'Why was the pizza in a bad mood?\\n\\nBecause it was feeling a little crusty!',\n",
       " 'explanation': 'A classic play on words. This joke is an example of a pun, which is a type of wordplay that exploits multiple meanings of a word or phrase. In this case, the joke relies on the double meaning of the word \"crusty.\"\\n\\nIn one sense, \"crusty\" can refer to the outer layer of a pizza, which is typically crispy and crunchy. However, \"crusty\" can also be used to describe someone or something that is irritable, grumpy, or in a bad mood. For example, you might say that someone is \"feeling a little crusty\" if they\\'re being short-tempered or snappish.\\n\\nThe joke works by setting up the expectation that the pizza is in a bad mood, and then subverting that expectation by providing a clever and humorous reason for its bad mood. The punchline \"it was feeling a little crusty\" is a clever play on words, as it references both the physical properties of the pizza\\'s crust and the emotional state of being irritable. The result is a lighthearted and amusing joke that uses wordplay to create a humorous effect.'}"
      ]
     },
     "execution_count": 12,
     "metadata": {},
     "output_type": "execute_result"
    }
   ],
   "source": [
    "initial_state = {\n",
    "    'topic': 'pizza'\n",
    "}\n",
    "\n",
    "config1 = {'configurable': {'thread_id': '1'}}\n",
    "\n",
    "workflow.invoke(initial_state, config=config1)"
   ]
  },
  {
   "cell_type": "code",
   "execution_count": 13,
   "id": "f294db9d",
   "metadata": {},
   "outputs": [
    {
     "data": {
      "text/plain": [
       "StateSnapshot(values={'topic': 'pizza', 'joke': 'Why was the pizza in a bad mood?\\n\\nBecause it was feeling a little crusty!', 'explanation': 'A classic play on words. This joke is an example of a pun, which is a type of wordplay that exploits multiple meanings of a word or phrase. In this case, the joke relies on the double meaning of the word \"crusty.\"\\n\\nIn one sense, \"crusty\" can refer to the outer layer of a pizza, which is typically crispy and crunchy. However, \"crusty\" can also be used to describe someone or something that is irritable, grumpy, or in a bad mood. For example, you might say that someone is \"feeling a little crusty\" if they\\'re being short-tempered or snappish.\\n\\nThe joke works by setting up the expectation that the pizza is in a bad mood, and then subverting that expectation by providing a clever and humorous reason for its bad mood. The punchline \"it was feeling a little crusty\" is a clever play on words, as it references both the physical properties of the pizza\\'s crust and the emotional state of being irritable. The result is a lighthearted and amusing joke that uses wordplay to create a humorous effect.'}, next=(), config={'configurable': {'thread_id': '1', 'checkpoint_ns': '', 'checkpoint_id': '1f0716eb-ef9d-639e-800a-57335b61eb07'}}, metadata={'source': 'loop', 'step': 10, 'parents': {}}, created_at='2025-08-04T20:08:11.286986+00:00', parent_config={'configurable': {'thread_id': '1', 'checkpoint_ns': '', 'checkpoint_id': '1f0716eb-e742-6b41-8009-407c9bb79f3e'}}, tasks=(), interrupts=())"
      ]
     },
     "execution_count": 13,
     "metadata": {},
     "output_type": "execute_result"
    }
   ],
   "source": [
    "workflow.get_state(config1)"
   ]
  },
  {
   "cell_type": "code",
   "execution_count": 14,
   "id": "92b4bff9",
   "metadata": {},
   "outputs": [
    {
     "data": {
      "text/plain": [
       "[StateSnapshot(values={'topic': 'pizza', 'joke': 'Why was the pizza in a bad mood?\\n\\nBecause it was feeling a little crusty!', 'explanation': 'A classic play on words. This joke is an example of a pun, which is a type of wordplay that exploits multiple meanings of a word or phrase. In this case, the joke relies on the double meaning of the word \"crusty.\"\\n\\nIn one sense, \"crusty\" can refer to the outer layer of a pizza, which is typically crispy and crunchy. However, \"crusty\" can also be used to describe someone or something that is irritable, grumpy, or in a bad mood. For example, you might say that someone is \"feeling a little crusty\" if they\\'re being short-tempered or snappish.\\n\\nThe joke works by setting up the expectation that the pizza is in a bad mood, and then subverting that expectation by providing a clever and humorous reason for its bad mood. The punchline \"it was feeling a little crusty\" is a clever play on words, as it references both the physical properties of the pizza\\'s crust and the emotional state of being irritable. The result is a lighthearted and amusing joke that uses wordplay to create a humorous effect.'}, next=(), config={'configurable': {'thread_id': '1', 'checkpoint_ns': '', 'checkpoint_id': '1f0716eb-ef9d-639e-800a-57335b61eb07'}}, metadata={'source': 'loop', 'step': 10, 'parents': {}}, created_at='2025-08-04T20:08:11.286986+00:00', parent_config={'configurable': {'thread_id': '1', 'checkpoint_ns': '', 'checkpoint_id': '1f0716eb-e742-6b41-8009-407c9bb79f3e'}}, tasks=(), interrupts=()),\n",
       " StateSnapshot(values={'topic': 'pizza', 'joke': 'Why was the pizza in a bad mood?\\n\\nBecause it was feeling a little crusty!', 'explanation': 'A deliciously cheesy joke. Let\\'s break it down:\\n\\nThe joke is a play on words, using a pun to create humor. The setup \"Why was the pizza in a bad mood?\" prepares the listener to expect a reason why the pizza is feeling unhappy. The punchline \"Because it was feeling a little crusty!\" subverts this expectation by using the word \"crusty\" in a double meaning.\\n\\nIn one sense, \"crusty\" refers to the texture of a pizza\\'s crust, which is the outer layer of the pizza. However, \"crusty\" can also mean being irritable, grouchy, or having a bad temper. This dual meaning is the core of the joke, as it creates a wordplay that connects the pizza\\'s physical characteristic (its crust) to its emotional state (being in a bad mood).\\n\\nThe humor comes from the unexpected twist on the word\\'s meaning, creating a clever and silly connection between the setup and the punchline. The joke relies on the listener being familiar with both meanings of \"crusty\" and making the mental connection between the two, which creates a sense of surprise and delight, leading to laughter.'}, next=('joke_explain',), config={'configurable': {'thread_id': '1', 'checkpoint_ns': '', 'checkpoint_id': '1f0716eb-e742-6b41-8009-407c9bb79f3e'}}, metadata={'source': 'loop', 'step': 9, 'parents': {}}, created_at='2025-08-04T20:08:10.411060+00:00', parent_config={'configurable': {'thread_id': '1', 'checkpoint_ns': '', 'checkpoint_id': '1f0716eb-e421-6e95-8008-fd301eaac0d8'}}, tasks=(PregelTask(id='6b74a215-4e17-2e60-524b-95d54aac206b', name='joke_explain', path=('__pregel_pull', 'joke_explain'), error=None, interrupts=(), state=None, result={'explanation': 'A classic play on words. This joke is an example of a pun, which is a type of wordplay that exploits multiple meanings of a word or phrase. In this case, the joke relies on the double meaning of the word \"crusty.\"\\n\\nIn one sense, \"crusty\" can refer to the outer layer of a pizza, which is typically crispy and crunchy. However, \"crusty\" can also be used to describe someone or something that is irritable, grumpy, or in a bad mood. For example, you might say that someone is \"feeling a little crusty\" if they\\'re being short-tempered or snappish.\\n\\nThe joke works by setting up the expectation that the pizza is in a bad mood, and then subverting that expectation by providing a clever and humorous reason for its bad mood. The punchline \"it was feeling a little crusty\" is a clever play on words, as it references both the physical properties of the pizza\\'s crust and the emotional state of being irritable. The result is a lighthearted and amusing joke that uses wordplay to create a humorous effect.'}),), interrupts=()),\n",
       " StateSnapshot(values={'topic': 'pizza', 'joke': 'Why was the pizza in a bad mood?\\n\\nBecause it was feeling a little crusty!', 'explanation': 'A deliciously cheesy joke. Let\\'s break it down:\\n\\nThe joke is a play on words, using a pun to create humor. The setup \"Why was the pizza in a bad mood?\" prepares the listener to expect a reason why the pizza is feeling unhappy. The punchline \"Because it was feeling a little crusty!\" subverts this expectation by using the word \"crusty\" in a double meaning.\\n\\nIn one sense, \"crusty\" refers to the texture of a pizza\\'s crust, which is the outer layer of the pizza. However, \"crusty\" can also mean being irritable, grouchy, or having a bad temper. This dual meaning is the core of the joke, as it creates a wordplay that connects the pizza\\'s physical characteristic (its crust) to its emotional state (being in a bad mood).\\n\\nThe humor comes from the unexpected twist on the word\\'s meaning, creating a clever and silly connection between the setup and the punchline. The joke relies on the listener being familiar with both meanings of \"crusty\" and making the mental connection between the two, which creates a sense of surprise and delight, leading to laughter.'}, next=('joke_generate',), config={'configurable': {'thread_id': '1', 'checkpoint_ns': '', 'checkpoint_id': '1f0716eb-e421-6e95-8008-fd301eaac0d8'}}, metadata={'source': 'loop', 'step': 8, 'parents': {}}, created_at='2025-08-04T20:08:10.083052+00:00', parent_config={'configurable': {'thread_id': '1', 'checkpoint_ns': '', 'checkpoint_id': '1f0716eb-e41c-68a6-8007-2f00d310f3e5'}}, tasks=(PregelTask(id='db26865f-900f-e833-7546-726e75e17d1b', name='joke_generate', path=('__pregel_pull', 'joke_generate'), error=None, interrupts=(), state=None, result={'joke': 'Why was the pizza in a bad mood?\\n\\nBecause it was feeling a little crusty!'}),), interrupts=()),\n",
       " StateSnapshot(values={'topic': 'pizza', 'joke': 'Why was the pizza in a bad mood?\\n\\nBecause it was feeling a little crusty!', 'explanation': 'A deliciously cheesy joke. Let\\'s break it down:\\n\\nThe joke is a play on words, using a pun to create humor. The setup \"Why was the pizza in a bad mood?\" prepares the listener to expect a reason why the pizza is feeling unhappy. The punchline \"Because it was feeling a little crusty!\" subverts this expectation by using the word \"crusty\" in a double meaning.\\n\\nIn one sense, \"crusty\" refers to the texture of a pizza\\'s crust, which is the outer layer of the pizza. However, \"crusty\" can also mean being irritable, grouchy, or having a bad temper. This dual meaning is the core of the joke, as it creates a wordplay that connects the pizza\\'s physical characteristic (its crust) to its emotional state (being in a bad mood).\\n\\nThe humor comes from the unexpected twist on the word\\'s meaning, creating a clever and silly connection between the setup and the punchline. The joke relies on the listener being familiar with both meanings of \"crusty\" and making the mental connection between the two, which creates a sense of surprise and delight, leading to laughter.'}, next=('__start__',), config={'configurable': {'thread_id': '1', 'checkpoint_ns': '', 'checkpoint_id': '1f0716eb-e41c-68a6-8007-2f00d310f3e5'}}, metadata={'source': 'input', 'step': 7, 'parents': {}}, created_at='2025-08-04T20:08:10.080848+00:00', parent_config={'configurable': {'thread_id': '1', 'checkpoint_ns': '', 'checkpoint_id': '1f0716eb-c648-668b-8006-700e3b842d13'}}, tasks=(PregelTask(id='1b862c35-8ef6-5bf8-6983-b1ef609dd526', name='__start__', path=('__pregel_pull', '__start__'), error=None, interrupts=(), state=None, result={'topic': 'pizza'}),), interrupts=()),\n",
       " StateSnapshot(values={'topic': 'pizza', 'joke': 'Why was the pizza in a bad mood?\\n\\nBecause it was feeling a little crusty!', 'explanation': 'A deliciously cheesy joke. Let\\'s break it down:\\n\\nThe joke is a play on words, using a pun to create humor. The setup \"Why was the pizza in a bad mood?\" prepares the listener to expect a reason why the pizza is feeling unhappy. The punchline \"Because it was feeling a little crusty!\" subverts this expectation by using the word \"crusty\" in a double meaning.\\n\\nIn one sense, \"crusty\" refers to the texture of a pizza\\'s crust, which is the outer layer of the pizza. However, \"crusty\" can also mean being irritable, grouchy, or having a bad temper. This dual meaning is the core of the joke, as it creates a wordplay that connects the pizza\\'s physical characteristic (its crust) to its emotional state (being in a bad mood).\\n\\nThe humor comes from the unexpected twist on the word\\'s meaning, creating a clever and silly connection between the setup and the punchline. The joke relies on the listener being familiar with both meanings of \"crusty\" and making the mental connection between the two, which creates a sense of surprise and delight, leading to laughter.'}, next=(), config={'configurable': {'thread_id': '1', 'checkpoint_ns': '', 'checkpoint_id': '1f0716eb-c648-668b-8006-700e3b842d13'}}, metadata={'source': 'loop', 'step': 6, 'parents': {}}, created_at='2025-08-04T20:08:06.953067+00:00', parent_config={'configurable': {'thread_id': '1', 'checkpoint_ns': '', 'checkpoint_id': '1f0716eb-bd23-6f9c-8005-0f1de7da48e3'}}, tasks=(), interrupts=()),\n",
       " StateSnapshot(values={'topic': 'pizza', 'joke': 'Why was the pizza in a bad mood?\\n\\nBecause it was feeling a little crusty!', 'explanation': 'A classic play on words. This joke is an example of a pun, which is a type of wordplay that uses multiple meanings of a word to create humor.\\n\\nThe joke starts by setting up a situation where a pizza is in a bad mood, which is an unexpected and humorous concept in itself. The punchline \"because it was feeling a little crusty\" is where the wordplay comes in.\\n\\nThe word \"crusty\" has a double meaning here. In one sense, \"crusty\" refers to the outer layer of a pizza, which is typically crunchy and crispy. However, \"crusty\" can also mean being irritable, gruff, or bad-tempered.\\n\\nThe joke relies on this dual meaning of \"crusty\" to create a humorous connection between the setup and the punchline. The speaker is making a clever connection between the pizza\\'s crust (the outer layer) and the idea of being \"crusty\" (in a bad mood), creating a lighthearted and amusing effect. The joke requires a quick mental shift to understand the wordplay, and the unexpected twist creates the humor.'}, next=('joke_explain',), config={'configurable': {'thread_id': '1', 'checkpoint_ns': '', 'checkpoint_id': '1f0716eb-bd23-6f9c-8005-0f1de7da48e3'}}, metadata={'source': 'loop', 'step': 5, 'parents': {}}, created_at='2025-08-04T20:08:05.994443+00:00', parent_config={'configurable': {'thread_id': '1', 'checkpoint_ns': '', 'checkpoint_id': '1f0716eb-b81e-6309-8004-29e84c153f1d'}}, tasks=(PregelTask(id='880982e5-5c94-4f17-e510-2b5ed4daa452', name='joke_explain', path=('__pregel_pull', 'joke_explain'), error=None, interrupts=(), state=None, result={'explanation': 'A deliciously cheesy joke. Let\\'s break it down:\\n\\nThe joke is a play on words, using a pun to create humor. The setup \"Why was the pizza in a bad mood?\" prepares the listener to expect a reason why the pizza is feeling unhappy. The punchline \"Because it was feeling a little crusty!\" subverts this expectation by using the word \"crusty\" in a double meaning.\\n\\nIn one sense, \"crusty\" refers to the texture of a pizza\\'s crust, which is the outer layer of the pizza. However, \"crusty\" can also mean being irritable, grouchy, or having a bad temper. This dual meaning is the core of the joke, as it creates a wordplay that connects the pizza\\'s physical characteristic (its crust) to its emotional state (being in a bad mood).\\n\\nThe humor comes from the unexpected twist on the word\\'s meaning, creating a clever and silly connection between the setup and the punchline. The joke relies on the listener being familiar with both meanings of \"crusty\" and making the mental connection between the two, which creates a sense of surprise and delight, leading to laughter.'}),), interrupts=()),\n",
       " StateSnapshot(values={'topic': 'pizza', 'joke': 'Why was the pizza in a bad mood?\\n\\nBecause it was feeling a little crusty!', 'explanation': 'A classic play on words. This joke is an example of a pun, which is a type of wordplay that uses multiple meanings of a word to create humor.\\n\\nThe joke starts by setting up a situation where a pizza is in a bad mood, which is an unexpected and humorous concept in itself. The punchline \"because it was feeling a little crusty\" is where the wordplay comes in.\\n\\nThe word \"crusty\" has a double meaning here. In one sense, \"crusty\" refers to the outer layer of a pizza, which is typically crunchy and crispy. However, \"crusty\" can also mean being irritable, gruff, or bad-tempered.\\n\\nThe joke relies on this dual meaning of \"crusty\" to create a humorous connection between the setup and the punchline. The speaker is making a clever connection between the pizza\\'s crust (the outer layer) and the idea of being \"crusty\" (in a bad mood), creating a lighthearted and amusing effect. The joke requires a quick mental shift to understand the wordplay, and the unexpected twist creates the humor.'}, next=('joke_generate',), config={'configurable': {'thread_id': '1', 'checkpoint_ns': '', 'checkpoint_id': '1f0716eb-b81e-6309-8004-29e84c153f1d'}}, metadata={'source': 'loop', 'step': 4, 'parents': {}}, created_at='2025-08-04T20:08:05.467795+00:00', parent_config={'configurable': {'thread_id': '1', 'checkpoint_ns': '', 'checkpoint_id': '1f0716eb-b7b1-6f16-8003-55bc1b7334b8'}}, tasks=(PregelTask(id='67374b93-a94d-dd77-358d-94234422ab1c', name='joke_generate', path=('__pregel_pull', 'joke_generate'), error=None, interrupts=(), state=None, result={'joke': 'Why was the pizza in a bad mood?\\n\\nBecause it was feeling a little crusty!'}),), interrupts=()),\n",
       " StateSnapshot(values={'topic': 'pizza', 'joke': 'Why was the pizza in a bad mood?\\n\\nBecause it was feeling a little crusty!', 'explanation': 'A classic play on words. This joke is an example of a pun, which is a type of wordplay that uses multiple meanings of a word to create humor.\\n\\nThe joke starts by setting up a situation where a pizza is in a bad mood, which is an unexpected and humorous concept in itself. The punchline \"because it was feeling a little crusty\" is where the wordplay comes in.\\n\\nThe word \"crusty\" has a double meaning here. In one sense, \"crusty\" refers to the outer layer of a pizza, which is typically crunchy and crispy. However, \"crusty\" can also mean being irritable, gruff, or bad-tempered.\\n\\nThe joke relies on this dual meaning of \"crusty\" to create a humorous connection between the setup and the punchline. The speaker is making a clever connection between the pizza\\'s crust (the outer layer) and the idea of being \"crusty\" (in a bad mood), creating a lighthearted and amusing effect. The joke requires a quick mental shift to understand the wordplay, and the unexpected twist creates the humor.'}, next=('__start__',), config={'configurable': {'thread_id': '1', 'checkpoint_ns': '', 'checkpoint_id': '1f0716eb-b7b1-6f16-8003-55bc1b7334b8'}}, metadata={'source': 'input', 'step': 3, 'parents': {}}, created_at='2025-08-04T20:08:05.423448+00:00', parent_config={'configurable': {'thread_id': '1', 'checkpoint_ns': '', 'checkpoint_id': '1f0716e8-66b1-6459-8002-47e39f51066b'}}, tasks=(PregelTask(id='beaf8c27-2f36-5ac0-edfc-e24178450602', name='__start__', path=('__pregel_pull', '__start__'), error=None, interrupts=(), state=None, result={'topic': 'pizza'}),), interrupts=()),\n",
       " StateSnapshot(values={'topic': 'pizza', 'joke': 'Why was the pizza in a bad mood?\\n\\nBecause it was feeling a little crusty!', 'explanation': 'A classic play on words. This joke is an example of a pun, which is a type of wordplay that uses multiple meanings of a word to create humor.\\n\\nThe joke starts by setting up a situation where a pizza is in a bad mood, which is an unexpected and humorous concept in itself. The punchline \"because it was feeling a little crusty\" is where the wordplay comes in.\\n\\nThe word \"crusty\" has a double meaning here. In one sense, \"crusty\" refers to the outer layer of a pizza, which is typically crunchy and crispy. However, \"crusty\" can also mean being irritable, gruff, or bad-tempered.\\n\\nThe joke relies on this dual meaning of \"crusty\" to create a humorous connection between the setup and the punchline. The speaker is making a clever connection between the pizza\\'s crust (the outer layer) and the idea of being \"crusty\" (in a bad mood), creating a lighthearted and amusing effect. The joke requires a quick mental shift to understand the wordplay, and the unexpected twist creates the humor.'}, next=(), config={'configurable': {'thread_id': '1', 'checkpoint_ns': '', 'checkpoint_id': '1f0716e8-66b1-6459-8002-47e39f51066b'}}, metadata={'source': 'loop', 'step': 2, 'parents': {}}, created_at='2025-08-04T20:06:36.399033+00:00', parent_config={'configurable': {'thread_id': '1', 'checkpoint_ns': '', 'checkpoint_id': '1f0716e8-5e3f-6917-8001-d0b8f38eb6a4'}}, tasks=(), interrupts=()),\n",
       " StateSnapshot(values={'topic': 'pizza', 'joke': 'Why was the pizza in a bad mood?\\n\\nBecause it was feeling a little crusty!'}, next=('joke_explain',), config={'configurable': {'thread_id': '1', 'checkpoint_ns': '', 'checkpoint_id': '1f0716e8-5e3f-6917-8001-d0b8f38eb6a4'}}, metadata={'source': 'loop', 'step': 1, 'parents': {}}, created_at='2025-08-04T20:06:35.513622+00:00', parent_config={'configurable': {'thread_id': '1', 'checkpoint_ns': '', 'checkpoint_id': '1f0716e8-561f-686a-8000-f651bc6c7048'}}, tasks=(PregelTask(id='d483e452-648d-dc4f-30ce-8c812b9a7f48', name='joke_explain', path=('__pregel_pull', 'joke_explain'), error=None, interrupts=(), state=None, result={'explanation': 'A classic play on words. This joke is an example of a pun, which is a type of wordplay that uses multiple meanings of a word to create humor.\\n\\nThe joke starts by setting up a situation where a pizza is in a bad mood, which is an unexpected and humorous concept in itself. The punchline \"because it was feeling a little crusty\" is where the wordplay comes in.\\n\\nThe word \"crusty\" has a double meaning here. In one sense, \"crusty\" refers to the outer layer of a pizza, which is typically crunchy and crispy. However, \"crusty\" can also mean being irritable, gruff, or bad-tempered.\\n\\nThe joke relies on this dual meaning of \"crusty\" to create a humorous connection between the setup and the punchline. The speaker is making a clever connection between the pizza\\'s crust (the outer layer) and the idea of being \"crusty\" (in a bad mood), creating a lighthearted and amusing effect. The joke requires a quick mental shift to understand the wordplay, and the unexpected twist creates the humor.'}),), interrupts=()),\n",
       " StateSnapshot(values={'topic': 'pizza'}, next=('joke_generate',), config={'configurable': {'thread_id': '1', 'checkpoint_ns': '', 'checkpoint_id': '1f0716e8-561f-686a-8000-f651bc6c7048'}}, metadata={'source': 'loop', 'step': 0, 'parents': {}}, created_at='2025-08-04T20:06:34.661661+00:00', parent_config={'configurable': {'thread_id': '1', 'checkpoint_ns': '', 'checkpoint_id': '1f0716e8-51df-6b65-bfff-257b90068c76'}}, tasks=(PregelTask(id='7e922e38-0c82-89f1-3121-83bd50ff26a7', name='joke_generate', path=('__pregel_pull', 'joke_generate'), error=None, interrupts=(), state=None, result={'joke': 'Why was the pizza in a bad mood?\\n\\nBecause it was feeling a little crusty!'}),), interrupts=()),\n",
       " StateSnapshot(values={}, next=('__start__',), config={'configurable': {'thread_id': '1', 'checkpoint_ns': '', 'checkpoint_id': '1f0716e8-51df-6b65-bfff-257b90068c76'}}, metadata={'source': 'input', 'step': -1, 'parents': {}}, created_at='2025-08-04T20:06:34.216089+00:00', parent_config=None, tasks=(PregelTask(id='7f68882f-1c15-5454-350b-a557c7b37bf3', name='__start__', path=('__pregel_pull', '__start__'), error=None, interrupts=(), state=None, result={'topic': 'pizza'}),), interrupts=())]"
      ]
     },
     "execution_count": 14,
     "metadata": {},
     "output_type": "execute_result"
    }
   ],
   "source": [
    "list(workflow.get_state_history(config1))"
   ]
  },
  {
   "cell_type": "code",
   "execution_count": 19,
   "id": "f4f6278b",
   "metadata": {},
   "outputs": [
    {
     "data": {
      "text/plain": [
       "{'topic': 'coffee',\n",
       " 'joke': 'Why did the coffee file a police report?\\n\\nBecause it got mugged!',\n",
       " 'explanation': 'A classic play on words. This joke is funny because it uses a clever pun to create a wordplay. Here\\'s how it works:\\n\\nThe phrase \"got mugged\" has a double meaning. In one sense, \"mugged\" can mean to be robbed or attacked, which is why someone might file a police report. However, in this joke, \"mugged\" also refers to the fact that coffee is often served in a mug.\\n\\nSo, when the joke says \"the coffee file a police report because it got mugged,\" it\\'s making a humorous connection between the idea of being robbed (filing a police report) and the fact that coffee is typically contained in a mug. It\\'s a lighthearted and clever play on words that creates a unexpected twist, making it amusing and entertaining.'}"
      ]
     },
     "execution_count": 19,
     "metadata": {},
     "output_type": "execute_result"
    }
   ],
   "source": [
    "initial_state = {\n",
    "    'topic': 'coffee'\n",
    "}\n",
    "\n",
    "config2 = {'configurable': {'thread_id': '2'}}\n",
    "\n",
    "workflow.invoke(initial_state, config=config2)"
   ]
  },
  {
   "cell_type": "code",
   "execution_count": 20,
   "id": "682c8ee2",
   "metadata": {},
   "outputs": [
    {
     "data": {
      "text/plain": [
       "StateSnapshot(values={'topic': 'coffee', 'joke': 'Why did the coffee file a police report?\\n\\nBecause it got mugged!', 'explanation': 'A classic play on words. This joke is funny because it uses a clever pun to create a wordplay. Here\\'s how it works:\\n\\nThe phrase \"got mugged\" has a double meaning. In one sense, \"mugged\" can mean to be robbed or attacked, which is why someone might file a police report. However, in this joke, \"mugged\" also refers to the fact that coffee is often served in a mug.\\n\\nSo, when the joke says \"the coffee file a police report because it got mugged,\" it\\'s making a humorous connection between the idea of being robbed (filing a police report) and the fact that coffee is typically contained in a mug. It\\'s a lighthearted and clever play on words that creates a unexpected twist, making it amusing and entertaining.'}, next=(), config={'configurable': {'thread_id': '2', 'checkpoint_ns': '', 'checkpoint_id': '1f0716fd-a29d-68bc-8006-23c4edfb3dc0'}}, metadata={'source': 'loop', 'step': 6, 'parents': {}}, created_at='2025-08-04T20:16:06.396544+00:00', parent_config={'configurable': {'thread_id': '2', 'checkpoint_ns': '', 'checkpoint_id': '1f0716fd-9b71-6934-8005-82554e41d041'}}, tasks=(), interrupts=())"
      ]
     },
     "execution_count": 20,
     "metadata": {},
     "output_type": "execute_result"
    }
   ],
   "source": [
    "workflow.get_state(config2)"
   ]
  },
  {
   "cell_type": "code",
   "execution_count": 21,
   "id": "013c991e",
   "metadata": {},
   "outputs": [
    {
     "data": {
      "text/plain": [
       "[StateSnapshot(values={'topic': 'coffee', 'joke': 'Why did the coffee file a police report?\\n\\nBecause it got mugged!', 'explanation': 'A classic play on words. This joke is funny because it uses a clever pun to create a wordplay. Here\\'s how it works:\\n\\nThe phrase \"got mugged\" has a double meaning. In one sense, \"mugged\" can mean to be robbed or attacked, which is why someone might file a police report. However, in this joke, \"mugged\" also refers to the fact that coffee is often served in a mug.\\n\\nSo, when the joke says \"the coffee file a police report because it got mugged,\" it\\'s making a humorous connection between the idea of being robbed (filing a police report) and the fact that coffee is typically contained in a mug. It\\'s a lighthearted and clever play on words that creates a unexpected twist, making it amusing and entertaining.'}, next=(), config={'configurable': {'thread_id': '2', 'checkpoint_ns': '', 'checkpoint_id': '1f0716fd-a29d-68bc-8006-23c4edfb3dc0'}}, metadata={'source': 'loop', 'step': 6, 'parents': {}}, created_at='2025-08-04T20:16:06.396544+00:00', parent_config={'configurable': {'thread_id': '2', 'checkpoint_ns': '', 'checkpoint_id': '1f0716fd-9b71-6934-8005-82554e41d041'}}, tasks=(), interrupts=()),\n",
       " StateSnapshot(values={'topic': 'coffee', 'joke': 'Why did the coffee file a police report?\\n\\nBecause it got mugged!', 'explanation': 'A clever play on words. This joke is funny because it uses a pun to create a humorous connection between the setup and the punchline.\\n\\nThe joke starts by asking why the coffee filed a police report, which implies that something bad happened to the coffee. The word \"mugged\" has a double meaning here:\\n\\n1. In a police context, a person can get \"mugged,\" which means to be robbed or attacked, usually in a public place.\\n2. A \"mug\" is also a common container used to hold coffee.\\n\\nThe punchline \"Because it got mugged!\" is funny because it takes the expected meaning of \"mugged\" (as in, robbed) and gives it a literal twist. The coffee got \"mugged\" as in, it was taken from its mug (container). It\\'s a clever and unexpected connection that creates the humor.\\n\\nThis type of joke is called a \"play on words\" or \"pun,\" where a word or phrase is used with multiple meanings to create a humorous effect. The joke relies on the listener being familiar with both meanings of the word \"mugged\" and making the connection between the setup and the punchline.'}, next=('joke_explain',), config={'configurable': {'thread_id': '2', 'checkpoint_ns': '', 'checkpoint_id': '1f0716fd-9b71-6934-8005-82554e41d041'}}, metadata={'source': 'loop', 'step': 5, 'parents': {}}, created_at='2025-08-04T20:16:05.644823+00:00', parent_config={'configurable': {'thread_id': '2', 'checkpoint_ns': '', 'checkpoint_id': '1f0716fd-987f-6af6-8004-b7c9b23a7c9c'}}, tasks=(PregelTask(id='5f38a688-9444-8acc-fa67-74ff7cc02ef4', name='joke_explain', path=('__pregel_pull', 'joke_explain'), error=None, interrupts=(), state=None, result={'explanation': 'A classic play on words. This joke is funny because it uses a clever pun to create a wordplay. Here\\'s how it works:\\n\\nThe phrase \"got mugged\" has a double meaning. In one sense, \"mugged\" can mean to be robbed or attacked, which is why someone might file a police report. However, in this joke, \"mugged\" also refers to the fact that coffee is often served in a mug.\\n\\nSo, when the joke says \"the coffee file a police report because it got mugged,\" it\\'s making a humorous connection between the idea of being robbed (filing a police report) and the fact that coffee is typically contained in a mug. It\\'s a lighthearted and clever play on words that creates a unexpected twist, making it amusing and entertaining.'}),), interrupts=()),\n",
       " StateSnapshot(values={'topic': 'coffee', 'joke': 'Why did the coffee file a police report?\\n\\nBecause it got mugged!', 'explanation': 'A clever play on words. This joke is funny because it uses a pun to create a humorous connection between the setup and the punchline.\\n\\nThe joke starts by asking why the coffee filed a police report, which implies that something bad happened to the coffee. The word \"mugged\" has a double meaning here:\\n\\n1. In a police context, a person can get \"mugged,\" which means to be robbed or attacked, usually in a public place.\\n2. A \"mug\" is also a common container used to hold coffee.\\n\\nThe punchline \"Because it got mugged!\" is funny because it takes the expected meaning of \"mugged\" (as in, robbed) and gives it a literal twist. The coffee got \"mugged\" as in, it was taken from its mug (container). It\\'s a clever and unexpected connection that creates the humor.\\n\\nThis type of joke is called a \"play on words\" or \"pun,\" where a word or phrase is used with multiple meanings to create a humorous effect. The joke relies on the listener being familiar with both meanings of the word \"mugged\" and making the connection between the setup and the punchline.'}, next=('joke_generate',), config={'configurable': {'thread_id': '2', 'checkpoint_ns': '', 'checkpoint_id': '1f0716fd-987f-6af6-8004-b7c9b23a7c9c'}}, metadata={'source': 'loop', 'step': 4, 'parents': {}}, created_at='2025-08-04T20:16:05.336104+00:00', parent_config={'configurable': {'thread_id': '2', 'checkpoint_ns': '', 'checkpoint_id': '1f0716fd-987b-6d47-8003-1e4f59689a58'}}, tasks=(PregelTask(id='14c62b0c-8d55-a0d0-72fa-1ce99c5af9cb', name='joke_generate', path=('__pregel_pull', 'joke_generate'), error=None, interrupts=(), state=None, result={'joke': 'Why did the coffee file a police report?\\n\\nBecause it got mugged!'}),), interrupts=()),\n",
       " StateSnapshot(values={'topic': 'coffee', 'joke': 'Why did the coffee file a police report?\\n\\nBecause it got mugged!', 'explanation': 'A clever play on words. This joke is funny because it uses a pun to create a humorous connection between the setup and the punchline.\\n\\nThe joke starts by asking why the coffee filed a police report, which implies that something bad happened to the coffee. The word \"mugged\" has a double meaning here:\\n\\n1. In a police context, a person can get \"mugged,\" which means to be robbed or attacked, usually in a public place.\\n2. A \"mug\" is also a common container used to hold coffee.\\n\\nThe punchline \"Because it got mugged!\" is funny because it takes the expected meaning of \"mugged\" (as in, robbed) and gives it a literal twist. The coffee got \"mugged\" as in, it was taken from its mug (container). It\\'s a clever and unexpected connection that creates the humor.\\n\\nThis type of joke is called a \"play on words\" or \"pun,\" where a word or phrase is used with multiple meanings to create a humorous effect. The joke relies on the listener being familiar with both meanings of the word \"mugged\" and making the connection between the setup and the punchline.'}, next=('__start__',), config={'configurable': {'thread_id': '2', 'checkpoint_ns': '', 'checkpoint_id': '1f0716fd-987b-6d47-8003-1e4f59689a58'}}, metadata={'source': 'input', 'step': 3, 'parents': {}}, created_at='2025-08-04T20:16:05.334523+00:00', parent_config={'configurable': {'thread_id': '2', 'checkpoint_ns': '', 'checkpoint_id': '1f0716fa-2ff8-6f5e-8002-dc597bab58b0'}}, tasks=(PregelTask(id='e6c7d580-0528-dadd-dfc9-5ef7e445e9f8', name='__start__', path=('__pregel_pull', '__start__'), error=None, interrupts=(), state=None, result={'topic': 'coffee'}),), interrupts=()),\n",
       " StateSnapshot(values={'topic': 'coffee', 'joke': 'Why did the coffee file a police report?\\n\\nBecause it got mugged!', 'explanation': 'A clever play on words. This joke is funny because it uses a pun to create a humorous connection between the setup and the punchline.\\n\\nThe joke starts by asking why the coffee filed a police report, which implies that something bad happened to the coffee. The word \"mugged\" has a double meaning here:\\n\\n1. In a police context, a person can get \"mugged,\" which means to be robbed or attacked, usually in a public place.\\n2. A \"mug\" is also a common container used to hold coffee.\\n\\nThe punchline \"Because it got mugged!\" is funny because it takes the expected meaning of \"mugged\" (as in, robbed) and gives it a literal twist. The coffee got \"mugged\" as in, it was taken from its mug (container). It\\'s a clever and unexpected connection that creates the humor.\\n\\nThis type of joke is called a \"play on words\" or \"pun,\" where a word or phrase is used with multiple meanings to create a humorous effect. The joke relies on the listener being familiar with both meanings of the word \"mugged\" and making the connection between the setup and the punchline.'}, next=(), config={'configurable': {'thread_id': '2', 'checkpoint_ns': '', 'checkpoint_id': '1f0716fa-2ff8-6f5e-8002-dc597bab58b0'}}, metadata={'source': 'loop', 'step': 2, 'parents': {}}, created_at='2025-08-04T20:14:33.845100+00:00', parent_config={'configurable': {'thread_id': '2', 'checkpoint_ns': '', 'checkpoint_id': '1f0716fa-266a-6df3-8001-dd5bb265df2d'}}, tasks=(), interrupts=()),\n",
       " StateSnapshot(values={'topic': 'coffee', 'joke': 'Why did the coffee file a police report?\\n\\nBecause it got mugged!'}, next=('joke_explain',), config={'configurable': {'thread_id': '2', 'checkpoint_ns': '', 'checkpoint_id': '1f0716fa-266a-6df3-8001-dd5bb265df2d'}}, metadata={'source': 'loop', 'step': 1, 'parents': {}}, created_at='2025-08-04T20:14:32.843181+00:00', parent_config={'configurable': {'thread_id': '2', 'checkpoint_ns': '', 'checkpoint_id': '1f0716fa-2397-6c87-8000-3a26cbd180d8'}}, tasks=(PregelTask(id='7a30459d-d9e1-2ea9-1a75-57e3f41148e7', name='joke_explain', path=('__pregel_pull', 'joke_explain'), error=None, interrupts=(), state=None, result={'explanation': 'A clever play on words. This joke is funny because it uses a pun to create a humorous connection between the setup and the punchline.\\n\\nThe joke starts by asking why the coffee filed a police report, which implies that something bad happened to the coffee. The word \"mugged\" has a double meaning here:\\n\\n1. In a police context, a person can get \"mugged,\" which means to be robbed or attacked, usually in a public place.\\n2. A \"mug\" is also a common container used to hold coffee.\\n\\nThe punchline \"Because it got mugged!\" is funny because it takes the expected meaning of \"mugged\" (as in, robbed) and gives it a literal twist. The coffee got \"mugged\" as in, it was taken from its mug (container). It\\'s a clever and unexpected connection that creates the humor.\\n\\nThis type of joke is called a \"play on words\" or \"pun,\" where a word or phrase is used with multiple meanings to create a humorous effect. The joke relies on the listener being familiar with both meanings of the word \"mugged\" and making the connection between the setup and the punchline.'}),), interrupts=()),\n",
       " StateSnapshot(values={'topic': 'coffee'}, next=('joke_generate',), config={'configurable': {'thread_id': '2', 'checkpoint_ns': '', 'checkpoint_id': '1f0716fa-2397-6c87-8000-3a26cbd180d8'}}, metadata={'source': 'loop', 'step': 0, 'parents': {}}, created_at='2025-08-04T20:14:32.546998+00:00', parent_config={'configurable': {'thread_id': '2', 'checkpoint_ns': '', 'checkpoint_id': '1f0716fa-2394-61a5-bfff-ffeef94ce323'}}, tasks=(PregelTask(id='95c51b21-e9a5-24fa-3172-90aec2b11a67', name='joke_generate', path=('__pregel_pull', 'joke_generate'), error=None, interrupts=(), state=None, result={'joke': 'Why did the coffee file a police report?\\n\\nBecause it got mugged!'}),), interrupts=()),\n",
       " StateSnapshot(values={}, next=('__start__',), config={'configurable': {'thread_id': '2', 'checkpoint_ns': '', 'checkpoint_id': '1f0716fa-2394-61a5-bfff-ffeef94ce323'}}, metadata={'source': 'input', 'step': -1, 'parents': {}}, created_at='2025-08-04T20:14:32.545504+00:00', parent_config=None, tasks=(PregelTask(id='6dd70e8c-cd08-6aa2-518b-3844c50182ad', name='__start__', path=('__pregel_pull', '__start__'), error=None, interrupts=(), state=None, result={'topic': 'coffee'}),), interrupts=())]"
      ]
     },
     "execution_count": 21,
     "metadata": {},
     "output_type": "execute_result"
    }
   ],
   "source": [
    "list(workflow.get_state_history(config2))"
   ]
  }
 ],
 "metadata": {
  "kernelspec": {
   "display_name": "venv",
   "language": "python",
   "name": "python3"
  },
  "language_info": {
   "codemirror_mode": {
    "name": "ipython",
    "version": 3
   },
   "file_extension": ".py",
   "mimetype": "text/x-python",
   "name": "python",
   "nbconvert_exporter": "python",
   "pygments_lexer": "ipython3",
   "version": "3.13.3"
  }
 },
 "nbformat": 4,
 "nbformat_minor": 5
}
