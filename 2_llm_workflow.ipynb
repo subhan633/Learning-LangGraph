{
 "cells": [
  {
   "cell_type": "code",
   "execution_count": 1,
   "id": "190606c7",
   "metadata": {},
   "outputs": [],
   "source": [
    "import os\n",
    "from langchain_groq import ChatGroq\n",
    "from langgraph.graph import StateGraph, START, END\n",
    "from typing import TypedDict\n",
    "from dotenv import load_dotenv"
   ]
  },
  {
   "cell_type": "code",
   "execution_count": 2,
   "id": "c808ae6b",
   "metadata": {},
   "outputs": [
    {
     "data": {
      "text/plain": [
       "True"
      ]
     },
     "execution_count": 2,
     "metadata": {},
     "output_type": "execute_result"
    }
   ],
   "source": [
    "# Load environment variables from .env file\n",
    "load_dotenv()"
   ]
  },
  {
   "cell_type": "code",
   "execution_count": null,
   "id": "845615b4",
   "metadata": {},
   "outputs": [],
   "source": [
    "# Get the API key from environment variables\n",
    "groq_api_key = os.getenv(\"GROQ_API_KEY\")"
   ]
  },
  {
   "cell_type": "code",
   "execution_count": 4,
   "id": "04667614",
   "metadata": {},
   "outputs": [],
   "source": [
    "# Initialize the Groq model\n",
    "model = ChatGroq(\n",
    "    api_key=groq_api_key,\n",
    "    model=\"llama-3.3-70b-versatile\",\n",
    "    temperature=0.7,          # Adjust for response randomness\n",
    "    max_tokens=1024           # Adjust for response length\n",
    ")"
   ]
  },
  {
   "cell_type": "code",
   "execution_count": 5,
   "id": "81e62917",
   "metadata": {},
   "outputs": [],
   "source": [
    "# Define the State\n",
    "class LLMstate(TypedDict):\n",
    "\n",
    "    question: str\n",
    "    answer: str"
   ]
  },
  {
   "cell_type": "code",
   "execution_count": 6,
   "id": "283f5f2c",
   "metadata": {},
   "outputs": [],
   "source": [
    "def llm_qa(state: LLMstate) -> LLMstate:\n",
    "\n",
    "    question = state['question']\n",
    "\n",
    "    # Prompt\n",
    "    prompt = f'Answer the following question {question}'\n",
    "\n",
    "    # Ask to LLM\n",
    "    answer = model.invoke(prompt).content\n",
    "\n",
    "    # Update the answer\n",
    "    state['answer'] = answer\n",
    "\n",
    "    return state"
   ]
  },
  {
   "cell_type": "code",
   "execution_count": 7,
   "id": "e373968e",
   "metadata": {},
   "outputs": [],
   "source": [
    "# Graph\n",
    "graph = StateGraph(LLMstate)\n",
    "\n",
    "# Nodes\n",
    "graph.add_node('llm_qa', llm_qa)\n",
    "\n",
    "# Edges\n",
    "graph.add_edge(START, 'llm_qa')\n",
    "graph.add_edge('llm_qa', END)\n",
    "\n",
    "# Compile\n",
    "workflow = graph.compile()"
   ]
  },
  {
   "cell_type": "code",
   "execution_count": 8,
   "id": "b9cba962",
   "metadata": {},
   "outputs": [
    {
     "name": "stdout",
     "output_type": "stream",
     "text": [
      "The average distance from the Earth to the Moon is approximately **384,400 kilometers (238,900 miles)**. This distance is constantly changing due to the elliptical shape of the Moon's orbit around our planet.\n",
      "\n",
      "At its closest point, called **perigee**, the Moon is about **356,400 kilometers (221,500 miles)** away from Earth. And at its farthest point, called **apogee**, the Moon is about **405,500 kilometers (252,000 miles)** away from Earth.\n",
      "\n",
      "It's worth noting that the Moon's orbit is not a perfect circle and its distance from Earth varies slightly over the course of a month. However, the average distance of 384,400 kilometers is a commonly cited and useful figure for understanding the Moon's proximity to our planet.\n"
     ]
    }
   ],
   "source": [
    "# Execute\n",
    "initial_state = {'question':'How far is moon from the Earth'}\n",
    "\n",
    "final_state = workflow.invoke(initial_state)\n",
    "\n",
    "print(final_state['answer'])"
   ]
  },
  {
   "cell_type": "code",
   "execution_count": null,
   "id": "6cbfaf10",
   "metadata": {},
   "outputs": [],
   "source": []
  }
 ],
 "metadata": {
  "kernelspec": {
   "display_name": "venv",
   "language": "python",
   "name": "python3"
  },
  "language_info": {
   "codemirror_mode": {
    "name": "ipython",
    "version": 3
   },
   "file_extension": ".py",
   "mimetype": "text/x-python",
   "name": "python",
   "nbconvert_exporter": "python",
   "pygments_lexer": "ipython3",
   "version": "3.13.3"
  }
 },
 "nbformat": 4,
 "nbformat_minor": 5
}
