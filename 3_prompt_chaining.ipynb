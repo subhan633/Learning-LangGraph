{
 "cells": [
  {
   "cell_type": "code",
   "execution_count": 1,
   "id": "ad6b87bd",
   "metadata": {},
   "outputs": [],
   "source": [
    "import os\n",
    "from langchain_groq import ChatGroq\n",
    "from langgraph.graph import StateGraph, START, END\n",
    "from typing import TypedDict\n",
    "from dotenv import load_dotenv"
   ]
  },
  {
   "cell_type": "code",
   "execution_count": 2,
   "id": "80a36160",
   "metadata": {},
   "outputs": [],
   "source": [
    "# Load environment variables from .env file\n",
    "load_dotenv()\n",
    "\n",
    "# Get the API key from environment variables\n",
    "groq_api_key = os.getenv(\"GROQ_API_KEY\")"
   ]
  },
  {
   "cell_type": "code",
   "execution_count": 3,
   "id": "e7435758",
   "metadata": {},
   "outputs": [],
   "source": [
    "# Initialize the Groq model\n",
    "model = ChatGroq(\n",
    "    api_key=groq_api_key,\n",
    "    model=\"llama-3.3-70b-versatile\",\n",
    "    temperature=0.7,          # Adjust for response randomness\n",
    ")"
   ]
  },
  {
   "cell_type": "code",
   "execution_count": 20,
   "id": "67817b24",
   "metadata": {},
   "outputs": [],
   "source": [
    "class BLOGState(TypedDict):\n",
    "\n",
    "    title: str\n",
    "    outline: str\n",
    "    content: str\n",
    "    evaluate: int"
   ]
  },
  {
   "cell_type": "code",
   "execution_count": 12,
   "id": "20ad5e78",
   "metadata": {},
   "outputs": [],
   "source": [
    "def create_outline(state: BLOGState) -> BLOGState:\n",
    "\n",
    "    title = state['title']\n",
    "\n",
    "    # Call LLM to generate outline\n",
    "    prompt = f'Generate a detailed outline for a blog on the topic {title}'\n",
    "    outline = model.invoke(prompt).content\n",
    "\n",
    "    state['outline'] = outline\n",
    "\n",
    "    return state"
   ]
  },
  {
   "cell_type": "code",
   "execution_count": 13,
   "id": "d48787f6",
   "metadata": {},
   "outputs": [],
   "source": [
    "def create_blog(state: BLOGState) -> BLOGState:\n",
    "\n",
    "    title = state['title']\n",
    "    outline = state['outline']\n",
    "\n",
    "    prompt = f'Write a detailed blog on the title - {title} using the following outline \\n {outline} '\n",
    "\n",
    "    content = model.invoke(prompt).content\n",
    "\n",
    "    state['content'] = content \n",
    "\n",
    "    return state"
   ]
  },
  {
   "cell_type": "code",
   "execution_count": 26,
   "id": "c755a65c",
   "metadata": {},
   "outputs": [],
   "source": [
    "def create_score(state: BLOGState) -> BLOGState:\n",
    "\n",
    "    outline = state['outline']\n",
    "    content = state['content']\n",
    "\n",
    "    prompt = f\"Evaluate the blog content against the provided outline. Rate it on a scale of 0 to 100 based on how well it follows the outline's structure and covers all key points. Return only an integer score (0-100), nothing else.\\n\\nOutline:\\n{outline}\\n\\nBlog:\\n{content}\"\n",
    "    \n",
    "    evaluate = model.invoke(prompt).content\n",
    "\n",
    "    try:\n",
    "        score = int(evaluate.strip())\n",
    "        if 0 <= score <= 100:\n",
    "            state['evaluate'] = score\n",
    "        else:\n",
    "            state['evaluate'] = 0  # Fallback if score is out of range\n",
    "    except ValueError:\n",
    "        state['evaluate'] = 0  # Fallback if response is not an integer\n",
    "\n",
    "    return state"
   ]
  },
  {
   "cell_type": "code",
   "execution_count": 27,
   "id": "dc83e864",
   "metadata": {},
   "outputs": [],
   "source": [
    "graph = StateGraph(BLOGState)\n",
    "\n",
    "graph.add_node('create_outline', create_outline)\n",
    "graph.add_node('create_blog', create_blog)\n",
    "graph.add_node('create_score', create_score)\n",
    "\n",
    "graph.add_edge(START, 'create_outline')\n",
    "graph.add_edge('create_outline', 'create_blog')\n",
    "graph.add_edge('create_blog', 'create_score')\n",
    "graph.add_edge('create_score', END)\n",
    "\n",
    "workflow = graph.compile()"
   ]
  },
  {
   "cell_type": "code",
   "execution_count": 30,
   "id": "4c0b8945",
   "metadata": {},
   "outputs": [
    {
     "name": "stdout",
     "output_type": "stream",
     "text": [
      "{'title': 'The Benefits of Daily Meditation', 'outline': 'Here is a detailed outline for a blog on the benefits of daily meditation:\\n\\n**Title:** \"Finding Inner Peace: The Benefits of Daily Meditation\"\\n\\n**Introduction**\\n\\n* Brief overview of meditation and its increasing popularity\\n* Explanation of the purpose of the blog post: to explore the benefits of daily meditation\\n* Thesis statement: Incorporating daily meditation into your routine can have a significant impact on both physical and mental well-being, leading to a more balanced and fulfilling life.\\n\\n**I. Reduces Stress and Anxiety**\\n\\n* Explanation of how meditation affects the body\\'s stress response\\n* Discussion of the scientific evidence supporting meditation\\'s ability to reduce stress and anxiety\\n* Personal anecdotes or examples of how daily meditation can help manage stress and anxiety\\n* Tips for incorporating meditation into a daily routine to reduce stress and anxiety\\n\\n**II. Improves Mental Clarity and Focus**\\n\\n* Explanation of how meditation improves cognitive function and concentration\\n* Discussion of the benefits of meditation for individuals with attention deficit hyperactivity disorder (ADHD)\\n* Examples of how meditation can improve productivity and creativity\\n* Tips for using meditation to improve mental clarity and focus\\n\\n**III. Enhances Emotional Well-being**\\n\\n* Explanation of how meditation affects emotional regulation and well-being\\n* Discussion of the benefits of meditation for individuals with depression, anxiety, and other mental health conditions\\n* Examples of how meditation can increase self-awareness, self-acceptance, and self-compassion\\n* Tips for using meditation to enhance emotional well-being\\n\\n**IV. Boosts Physical Health**\\n\\n* Explanation of the physical benefits of meditation, including:\\n\\t+ Lower blood pressure\\n\\t+ Reduced chronic pain\\n\\t+ Improved sleep quality\\n\\t+ Enhanced immune function\\n* Discussion of the scientific evidence supporting meditation\\'s ability to improve physical health\\n* Examples of how meditation can be used to manage chronic health conditions\\n* Tips for incorporating meditation into a daily routine to improve physical health\\n\\n**V. Increases Self-Awareness and Personal Growth**\\n\\n* Explanation of how meditation increases self-awareness and introspection\\n* Discussion of the benefits of meditation for personal growth and self-improvement\\n* Examples of how meditation can help individuals develop a greater sense of purpose and direction\\n* Tips for using meditation to increase self-awareness and personal growth\\n\\n**VI. Conclusion**\\n\\n* Summary of the benefits of daily meditation\\n* Encouragement to start a daily meditation practice\\n* Final thoughts: meditation is a simple yet powerful tool for improving overall well-being, and incorporating it into daily life can have a profound impact on physical, mental, and emotional health.\\n\\n**Additional Resources**\\n\\n* List of recommended meditation apps, books, and online resources\\n* Tips for getting started with a daily meditation practice\\n* Encouragement to explore different types of meditation and find what works best for each individual.\\n\\nThis outline provides a comprehensive overview of the benefits of daily meditation, covering physical, mental, and emotional well-being, as well as personal growth and self-awareness. By following this outline, you can create a informative and engaging blog post that inspires readers to start their own daily meditation practice.', 'content': '**Finding Inner Peace: The Benefits of Daily Meditation**\\n\\nIn today\\'s fast-paced world, it\\'s easy to get caught up in the hustle and bustle of daily life and forget to take care of our most valuable asset: our minds. Meditation, once considered a fringe practice, has become increasingly popular as people seek to reduce stress, improve their mental clarity, and increase their overall sense of well-being. As we explore the benefits of daily meditation, it becomes clear that incorporating this simple yet powerful practice into our daily routine can have a significant impact on both physical and mental well-being, leading to a more balanced and fulfilling life.\\n\\n**I. Reduces Stress and Anxiety**\\n\\nMeditation has been shown to have a profound impact on the body\\'s stress response, reducing the production of stress hormones like cortisol and adrenaline. When we meditate, our body\\'s \"fight or flight\" response is deactivated, and our parasympathetic nervous system takes over, promoting relaxation and calmness. Scientific studies have consistently shown that regular meditation can reduce stress and anxiety by teaching the mind to focus on the present moment, rather than getting caught up in worries about the past or future.\\n\\nFor example, a study published in the Journal of the American Medical Association found that mindfulness meditation reduced symptoms of anxiety and depression in patients with chronic pain. Another study published in the Journal of Clinical Psychology found that meditation reduced stress and anxiety in individuals with generalized anxiety disorder. By incorporating meditation into our daily routine, we can better manage stress and anxiety, leading to a greater sense of calm and well-being.\\n\\nTo get started with meditation for stress and anxiety reduction, try the following tips:\\n\\n* Start with short sessions (5-10 minutes) and gradually increase as you become more comfortable with the practice\\n* Focus on your breath, a mantra, or a physical sensation in your body to anchor your attention\\n* Use a guided meditation app or video to help you get started\\n* Practice meditation at the same time each day, such as first thing in the morning or before bed\\n\\n**II. Improves Mental Clarity and Focus**\\n\\nMeditation has been shown to improve cognitive function and concentration by training the mind to focus on a single point. Regular meditation practice can improve attention, working memory, and processing speed, making it an effective tool for individuals with attention deficit hyperactivity disorder (ADHD). Meditation can also improve productivity and creativity by allowing the mind to wander and explore new ideas.\\n\\nFor example, a study published in the Journal of Attention Disorders found that mindfulness meditation improved attention and reduced symptoms of ADHD in children. Another study published in the Journal of Cognitive Psychology found that meditation improved creative problem-solving skills in adults. By incorporating meditation into our daily routine, we can improve our mental clarity and focus, leading to greater productivity and creativity.\\n\\nTo get started with meditation for mental clarity and focus, try the following tips:\\n\\n* Start with short sessions (5-10 minutes) and gradually increase as you become more comfortable with the practice\\n* Focus on a single point, such as the breath or a mantra, to improve concentration\\n* Practice meditation at the same time each day, such as first thing in the morning or during a lunch break\\n* Use a mindfulness meditation app or video to help you get started\\n\\n**III. Enhances Emotional Well-being**\\n\\nMeditation has been shown to have a positive impact on emotional regulation and well-being, reducing symptoms of depression, anxiety, and other mental health conditions. Regular meditation practice can increase self-awareness, self-acceptance, and self-compassion, allowing us to better understand and manage our emotions. Meditation can also improve emotional resilience, helping us to bounce back from challenging situations and difficult emotions.\\n\\nFor example, a study published in the Journal of Consulting and Clinical Psychology found that mindfulness meditation reduced symptoms of depression and anxiety in individuals with chronic pain. Another study published in the Journal of Positive Psychology found that meditation increased self-compassion and self-awareness in adults. By incorporating meditation into our daily routine, we can enhance our emotional well-being, leading to a greater sense of happiness and fulfillment.\\n\\nTo get started with meditation for emotional well-being, try the following tips:\\n\\n* Start with short sessions (5-10 minutes) and gradually increase as you become more comfortable with the practice\\n* Focus on the breath or a physical sensation in the body to anchor your attention\\n* Practice loving-kindness meditation, focusing on sending kindness and compassion to yourself and others\\n* Use a guided meditation app or video to help you get started\\n\\n**IV. Boosts Physical Health**\\n\\nMeditation has been shown to have a range of physical health benefits, including lower blood pressure, reduced chronic pain, improved sleep quality, and enhanced immune function. Regular meditation practice can reduce inflammation, improve cardiovascular health, and even slow down the aging process. By incorporating meditation into our daily routine, we can improve our physical health, leading to a greater sense of well-being and vitality.\\n\\nFor example, a study published in the Journal of Alternative and Complementary Medicine found that mindfulness meditation reduced blood pressure and improved cardiovascular health in adults. Another study published in the Journal of Pain Research found that meditation reduced chronic pain and improved sleep quality in individuals with fibromyalgia. By incorporating meditation into our daily routine, we can boost our physical health, leading to a greater sense of vitality and well-being.\\n\\nTo get started with meditation for physical health, try the following tips:\\n\\n* Start with short sessions (5-10 minutes) and gradually increase as you become more comfortable with the practice\\n* Focus on the breath or a physical sensation in the body to anchor your attention\\n* Practice body scan meditation, focusing on each part of the body and releasing tension and discomfort\\n* Use a guided meditation app or video to help you get started\\n\\n**V. Increases Self-Awareness and Personal Growth**\\n\\nMeditation has been shown to increase self-awareness and introspection, allowing us to better understand our thoughts, feelings, and behaviors. Regular meditation practice can improve self-awareness, self-acceptance, and self-compassion, leading to greater personal growth and self-improvement. Meditation can also help us develop a greater sense of purpose and direction, allowing us to make more intentional decisions and live a more fulfilling life.\\n\\nFor example, a study published in the Journal of Positive Psychology found that mindfulness meditation increased self-awareness and self-acceptance in adults. Another study published in the Journal of Personality and Social Psychology found that meditation improved self-compassion and self-awareness in individuals with depression. By incorporating meditation into our daily routine, we can increase our self-awareness and personal growth, leading to a greater sense of purpose and fulfillment.\\n\\nTo get started with meditation for self-awareness and personal growth, try the following tips:\\n\\n* Start with short sessions (5-10 minutes) and gradually increase as you become more comfortable with the practice\\n* Focus on the breath or a physical sensation in the body to anchor your attention\\n* Practice reflection and journaling after meditation to explore your thoughts, feelings, and insights\\n* Use a guided meditation app or video to help you get started\\n\\n**VI. Conclusion**\\n\\nIn conclusion, the benefits of daily meditation are numerous and well-documented. By incorporating meditation into our daily routine, we can reduce stress and anxiety, improve mental clarity and focus, enhance emotional well-being, boost physical health, and increase self-awareness and personal growth. Whether you\\'re looking to improve your physical health, mental well-being, or personal growth, meditation is a simple yet powerful tool that can have a profound impact on your life.\\n\\nSo why not give meditation a try? Start with short sessions, focus on your breath, and be patient with yourself as you develop a consistent practice. With regular meditation, you can experience the many benefits of this powerful practice and live a more balanced, fulfilling life.\\n\\n**Additional Resources**\\n\\nIf you\\'re interested in learning more about meditation or getting started with a daily practice, here are some recommended resources:\\n\\n* Meditation apps: Headspace, Calm, and Insight Timer\\n* Books: \"The Miracle of Mindfulness\" by Thich Nhat Hanh, \"Wherever You Go, There You Are\" by Jon Kabat-Zinn, and \"Mindfulness: A Practical Guide to Finding Peace in a Frantic World\" by Mark Williams and Danny Penman\\n* Online resources: Mindful.org, MeditationStudio.com, and YogaInternational.com\\n* Tips for getting started: Start with short sessions, focus on your breath, and be patient with yourself as you develop a consistent practice. Experiment with different types of meditation, such as mindfulness, loving-kindness, or transcendental meditation, to find what works best for you.\\n\\nRemember, meditation is a journey, not a destination. With regular practice, you can experience the many benefits of meditation and live a more balanced, fulfilling life. So why not give it a try? Your mind, body, and spirit will thank you.', 'evaluate': 98}\n"
     ]
    }
   ],
   "source": [
    "initial_state = {'title': 'The Benefits of Daily Meditation'}\n",
    "\n",
    "final_state = workflow.invoke(initial_state)\n",
    "\n",
    "print(final_state)"
   ]
  },
  {
   "cell_type": "code",
   "execution_count": 31,
   "id": "9633ab82",
   "metadata": {},
   "outputs": [
    {
     "name": "stdout",
     "output_type": "stream",
     "text": [
      "Here is a detailed outline for a blog on the benefits of daily meditation:\n",
      "\n",
      "**Title:** \"Finding Inner Peace: The Benefits of Daily Meditation\"\n",
      "\n",
      "**Introduction**\n",
      "\n",
      "* Brief overview of meditation and its increasing popularity\n",
      "* Explanation of the purpose of the blog post: to explore the benefits of daily meditation\n",
      "* Thesis statement: Incorporating daily meditation into your routine can have a significant impact on both physical and mental well-being, leading to a more balanced and fulfilling life.\n",
      "\n",
      "**I. Reduces Stress and Anxiety**\n",
      "\n",
      "* Explanation of how meditation affects the body's stress response\n",
      "* Discussion of the scientific evidence supporting meditation's ability to reduce stress and anxiety\n",
      "* Personal anecdotes or examples of how daily meditation can help manage stress and anxiety\n",
      "* Tips for incorporating meditation into a daily routine to reduce stress and anxiety\n",
      "\n",
      "**II. Improves Mental Clarity and Focus**\n",
      "\n",
      "* Explanation of how meditation improves cognitive function and concentration\n",
      "* Discussion of the benefits of meditation for individuals with attention deficit hyperactivity disorder (ADHD)\n",
      "* Examples of how meditation can improve productivity and creativity\n",
      "* Tips for using meditation to improve mental clarity and focus\n",
      "\n",
      "**III. Enhances Emotional Well-being**\n",
      "\n",
      "* Explanation of how meditation affects emotional regulation and well-being\n",
      "* Discussion of the benefits of meditation for individuals with depression, anxiety, and other mental health conditions\n",
      "* Examples of how meditation can increase self-awareness, self-acceptance, and self-compassion\n",
      "* Tips for using meditation to enhance emotional well-being\n",
      "\n",
      "**IV. Boosts Physical Health**\n",
      "\n",
      "* Explanation of the physical benefits of meditation, including:\n",
      "\t+ Lower blood pressure\n",
      "\t+ Reduced chronic pain\n",
      "\t+ Improved sleep quality\n",
      "\t+ Enhanced immune function\n",
      "* Discussion of the scientific evidence supporting meditation's ability to improve physical health\n",
      "* Examples of how meditation can be used to manage chronic health conditions\n",
      "* Tips for incorporating meditation into a daily routine to improve physical health\n",
      "\n",
      "**V. Increases Self-Awareness and Personal Growth**\n",
      "\n",
      "* Explanation of how meditation increases self-awareness and introspection\n",
      "* Discussion of the benefits of meditation for personal growth and self-improvement\n",
      "* Examples of how meditation can help individuals develop a greater sense of purpose and direction\n",
      "* Tips for using meditation to increase self-awareness and personal growth\n",
      "\n",
      "**VI. Conclusion**\n",
      "\n",
      "* Summary of the benefits of daily meditation\n",
      "* Encouragement to start a daily meditation practice\n",
      "* Final thoughts: meditation is a simple yet powerful tool for improving overall well-being, and incorporating it into daily life can have a profound impact on physical, mental, and emotional health.\n",
      "\n",
      "**Additional Resources**\n",
      "\n",
      "* List of recommended meditation apps, books, and online resources\n",
      "* Tips for getting started with a daily meditation practice\n",
      "* Encouragement to explore different types of meditation and find what works best for each individual.\n",
      "\n",
      "This outline provides a comprehensive overview of the benefits of daily meditation, covering physical, mental, and emotional well-being, as well as personal growth and self-awareness. By following this outline, you can create a informative and engaging blog post that inspires readers to start their own daily meditation practice.\n"
     ]
    }
   ],
   "source": [
    "print(final_state['outline'])"
   ]
  },
  {
   "cell_type": "code",
   "execution_count": 19,
   "id": "cf1cca5d",
   "metadata": {},
   "outputs": [
    {
     "name": "stdout",
     "output_type": "stream",
     "text": [
      "**The Rise of AI in 2025: Trends, Applications, and Future Implications**\n",
      "\n",
      "As we navigate the complexities of modern life, it's becoming increasingly evident that Artificial Intelligence (AI) is playing a pivotal role in shaping our daily experiences. From intelligent personal assistants to self-driving cars, AI is transforming industries and revolutionizing the way we live and work. As we enter 2025, it's essential to discuss the current state of AI and its future prospects. In this blog, we'll delve into the latest trends, applications, and emerging technologies in AI, as well as its potential implications for the future. In 2025, AI is poised to revolutionize industries and transform the way we live and work, with significant advancements in areas such as natural language processing, computer vision, and machine learning.\n",
      "\n",
      "**Current State of AI in 2025**\n",
      "\n",
      "The current AI landscape in 2025 is characterized by rapid growth and increasing adoption across various industries. One of the most notable trends is the shift towards cloud-based AI services, which enables businesses to access AI capabilities without having to invest in expensive infrastructure. Edge AI and IoT devices are also becoming more prevalent, allowing for real-time data processing and analysis at the edge of the network. Furthermore, there is a growing emphasis on explainable AI (XAI) and transparent AI, which aims to provide insights into AI decision-making processes and mitigate potential biases.\n",
      "\n",
      "AI applications are already being used in various industries, including healthcare, finance, and customer service. For instance, AI-assisted diagnosis and personalized medicine are transforming the healthcare sector, while AI-powered trading and risk management are being used in finance to optimize investment portfolios. In customer service, AI-driven chatbots and virtual assistants are providing 24/7 support to customers, improving response times and enhancing overall customer experience.\n",
      "\n",
      "**Emerging AI Technologies in 2025**\n",
      "\n",
      "As AI continues to evolve, several emerging technologies are poised to make a significant impact in 2025. Quantum AI, for example, has the potential to solve complex problems that are currently unsolvable with traditional computing methods. Graph neural networks are being used to analyze complex data relationships, while multimodal AI is being applied in areas such as robotics and computer vision. These emerging technologies have the potential to unlock new applications and use cases, but they also come with challenges, such as the need for specialized expertise and infrastructure.\n",
      "\n",
      "Companies and research institutions are already working on these emerging AI technologies, with significant investments being made in research and development. For instance, Google is working on quantum AI, while Facebook is developing graph neural networks for social network analysis. As these technologies mature, we can expect to see significant advancements in areas such as natural language processing, computer vision, and predictive analytics.\n",
      "\n",
      "**AI Applications in 2025**\n",
      "\n",
      "AI applications are being used in various industries, with significant benefits being realized. In education, AI-powered adaptive learning and personalized education are improving student outcomes and enhancing the learning experience. In transportation, AI-driven autonomous vehicles and smart traffic management are reducing accidents and improving traffic flow. In cybersecurity, AI-powered threat detection and incident response are helping to protect against cyberattacks.\n",
      "\n",
      "The adoption of AI is also having a significant impact on the job market, with some jobs being automated and others being created. While there are concerns about job displacement, it's essential to recognize that AI is also creating new opportunities for workers, such as in AI development, deployment, and maintenance. As AI continues to evolve, it's crucial to ensure that workers have the necessary skills to adapt to an AI-driven economy.\n",
      "\n",
      "**Future Implications of AI in 2025 and Beyond**\n",
      "\n",
      "As AI continues to advance, there are several potential implications that need to be considered. One of the most significant concerns is job displacement, with some estimates suggesting that up to 30% of jobs could be automated by 2030. There are also concerns about ethics and bias in AI decision-making, with the potential for AI systems to perpetuate existing biases and discriminate against certain groups. Additionally, there are potential risks associated with AI, such as AI-powered cyberattacks and autonomous weapons.\n",
      "\n",
      "To mitigate these risks, it's essential to ensure that AI is developed and deployed responsibly. This requires a collaborative effort from individuals, organizations, and governments to establish guidelines and regulations for AI development and deployment. It's also crucial to invest in education and retraining programs, to ensure that workers have the necessary skills to adapt to an AI-driven economy.\n",
      "\n",
      "**Conclusion**\n",
      "\n",
      "In conclusion, the rise of AI in 2025 is a significant trend that has the potential to transform industries and society. With advancements in natural language processing, computer vision, and machine learning, AI is poised to revolutionize the way we live and work. As we move forward, it's essential to consider the potential implications of AI, including job displacement, ethics, and bias. By working together to ensure responsible AI development and deployment, we can mitigate the risks associated with AI and realize its benefits. As we continue to navigate the complexities of AI, it's essential to stay informed about the latest developments and to participate in the ongoing conversation about the future of AI.\n"
     ]
    }
   ],
   "source": [
    "print(final_state['content'])"
   ]
  },
  {
   "cell_type": "code",
   "execution_count": 32,
   "id": "31c2f7d9",
   "metadata": {},
   "outputs": [
    {
     "name": "stdout",
     "output_type": "stream",
     "text": [
      "98\n"
     ]
    }
   ],
   "source": [
    "print(final_state['evaluate'])"
   ]
  }
 ],
 "metadata": {
  "kernelspec": {
   "display_name": "venv",
   "language": "python",
   "name": "python3"
  },
  "language_info": {
   "codemirror_mode": {
    "name": "ipython",
    "version": 3
   },
   "file_extension": ".py",
   "mimetype": "text/x-python",
   "name": "python",
   "nbconvert_exporter": "python",
   "pygments_lexer": "ipython3",
   "version": "3.13.3"
  }
 },
 "nbformat": 4,
 "nbformat_minor": 5
}
