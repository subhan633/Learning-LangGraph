{
 "cells": [
  {
   "cell_type": "code",
   "execution_count": null,
   "id": "02d8b113",
   "metadata": {},
   "outputs": [],
   "source": [
    "from langgraph.graph import StateGraph, START, END\n",
    "from typing import TypedDict"
   ]
  },
  {
   "cell_type": "code",
   "execution_count": 2,
   "id": "4a79fba8",
   "metadata": {},
   "outputs": [],
   "source": [
    "class BatsmanState(TypedDict):\n",
    "\n",
    "    runs: int\n",
    "    balls: int\n",
    "    fours: int\n",
    "    sixes: int\n",
    "\n",
    "    sr: float\n",
    "    bpb : float\n",
    "    boundary_per: float\n",
    "\n",
    "    summary: str    "
   ]
  },
  {
   "cell_type": "code",
   "execution_count": 10,
   "id": "2a73b9db",
   "metadata": {},
   "outputs": [],
   "source": [
    "def calculate_sr(state: BatsmanState):\n",
    "\n",
    "    sr = (state['runs']/state['balls'])*100\n",
    "    \n",
    "    return {'sr': sr}"
   ]
  },
  {
   "cell_type": "code",
   "execution_count": 13,
   "id": "a9f66700",
   "metadata": {},
   "outputs": [],
   "source": [
    "def calculate_bpb(state: BatsmanState):\n",
    "\n",
    "    bpb = state['balls']/(state['fours'] + state['sixes'])\n",
    "\n",
    "    return {'bpb': bpb}"
   ]
  },
  {
   "cell_type": "code",
   "execution_count": 12,
   "id": "010a4b13",
   "metadata": {},
   "outputs": [],
   "source": [
    "def calculate_boundary_per(state: BatsmanState):\n",
    "\n",
    "    boundary_per = ((state['fours'] * 4) + (state['sixes'] * 6) / state['runs']) * 100\n",
    "\n",
    "    return {'boundary_per': boundary_per}"
   ]
  },
  {
   "cell_type": "code",
   "execution_count": 14,
   "id": "7fb2fb4f",
   "metadata": {},
   "outputs": [],
   "source": [
    "def summary(state: BatsmanState):\n",
    "\n",
    "    summary = f\"\"\"\n",
    "Strikes Rate {state['sr']} \\n\n",
    "Balls per boundary {state['bpb']} \\n\n",
    "Boundary percentage {state['boundary_per']}\n",
    "\"\"\"\n",
    "\n",
    "    return {'summary': summary}"
   ]
  },
  {
   "cell_type": "code",
   "execution_count": 15,
   "id": "8d824c1a",
   "metadata": {},
   "outputs": [],
   "source": [
    "graph = StateGraph(BatsmanState)\n",
    "\n",
    "# Nodes\n",
    "graph.add_node('calculate_sr', calculate_sr)\n",
    "graph.add_node('calculate_bpb', calculate_bpb)\n",
    "graph.add_node('calculate_boundary_per', calculate_boundary_per)\n",
    "graph.add_node('summary', summary)\n",
    "\n",
    "# Edges\n",
    "graph.add_edge(START, 'calculate_sr')\n",
    "graph.add_edge(START, 'calculate_bpb')\n",
    "graph.add_edge(START, 'calculate_boundary_per')\n",
    "\n",
    "graph.add_edge('calculate_sr', 'summary')\n",
    "graph.add_edge('calculate_bpb', 'summary')\n",
    "graph.add_edge('calculate_boundary_per', 'summary')\n",
    "\n",
    "graph.add_edge('summary', END)\n",
    "\n",
    "# Graph Compile\n",
    "workflow = graph.compile()"
   ]
  },
  {
   "cell_type": "code",
   "execution_count": 16,
   "id": "154008fd",
   "metadata": {},
   "outputs": [
    {
     "data": {
      "text/plain": [
       "{'runs': 100,\n",
       " 'balls': 50,\n",
       " 'fours': 4,\n",
       " 'sixes': 6,\n",
       " 'sr': 200.0,\n",
       " 'bpb': 5.0,\n",
       " 'boundary_per': 1636.0,\n",
       " 'summary': '\\nStrikes Rate 200.0 \\n\\nBalls per boundary 5.0 \\n\\nBoundary percentage 1636.0\\n'}"
      ]
     },
     "execution_count": 16,
     "metadata": {},
     "output_type": "execute_result"
    }
   ],
   "source": [
    "initial_state = {\n",
    "    'runs': 100,\n",
    "    'balls': 50,\n",
    "    'fours': 4,\n",
    "    'sixes': 6\n",
    "}\n",
    "\n",
    "workflow.invoke(initial_state)"
   ]
  },
  {
   "cell_type": "code",
   "execution_count": null,
   "id": "9b1fc37b",
   "metadata": {},
   "outputs": [],
   "source": []
  }
 ],
 "metadata": {
  "kernelspec": {
   "display_name": "venv",
   "language": "python",
   "name": "python3"
  },
  "language_info": {
   "codemirror_mode": {
    "name": "ipython",
    "version": 3
   },
   "file_extension": ".py",
   "mimetype": "text/x-python",
   "name": "python",
   "nbconvert_exporter": "python",
   "pygments_lexer": "ipython3",
   "version": "3.13.3"
  }
 },
 "nbformat": 4,
 "nbformat_minor": 5
}
