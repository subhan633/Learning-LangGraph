{
 "cells": [
  {
   "cell_type": "code",
   "execution_count": 11,
   "id": "4dd8d46c",
   "metadata": {},
   "outputs": [],
   "source": [
    "from langgraph.graph import StateGraph, START, END\n",
    "from typing import TypedDict, Literal"
   ]
  },
  {
   "cell_type": "code",
   "execution_count": 3,
   "id": "cd0af055",
   "metadata": {},
   "outputs": [],
   "source": [
    "class QuadState(TypedDict):\n",
    "\n",
    "    a: int\n",
    "    b: int\n",
    "    c: int\n",
    "\n",
    "    equation: str\n",
    "    discriminant: str\n",
    "    result: str"
   ]
  },
  {
   "cell_type": "code",
   "execution_count": 12,
   "id": "6de684bf",
   "metadata": {},
   "outputs": [],
   "source": [
    "def show_eq(state: QuadState):\n",
    "\n",
    "    equation = f'{state['a']}x2{state[\"b\"]}x{state[\"c\"]}'\n",
    "\n",
    "    return {'equation': equation}\n",
    "\n",
    "def cal_disc(state: QuadState):\n",
    "\n",
    "    discriminant = state['b']**2 - (4*state['a']*state['c'])\n",
    "\n",
    "    return {'discriminant': discriminant}\n",
    "\n",
    "def real_roots(state: QuadState):\n",
    "\n",
    "    root1 = (-state['b'] + state['discriminant']**0.5) / (2*state['a'])\n",
    "    root2 = (-state['b'] - state['discriminant']**0.5) / (2*state['a'])\n",
    "\n",
    "    result = f'The real roots are {root1} and {root2}'\n",
    "\n",
    "    return{'result': result}\n",
    "\n",
    "def repeated_roots(state: QuadState):\n",
    "\n",
    "    root = (-state['b']) / (2*state['a'])\n",
    "\n",
    "    result = f'Only repeating root is {root}'\n",
    "\n",
    "    return{'result': result}\n",
    "\n",
    "def no_real_roots(state: QuadState):\n",
    "\n",
    "    result = f'No real roots'\n",
    "\n",
    "    return{'result': result}\n",
    "\n",
    "def check_condition(state: QuadState) -> Literal['real_roots', 'repeated_roots', 'no_real_roots']:\n",
    "\n",
    "    if state['discriminant'] > 0:\n",
    "        return \"real_roots\"\n",
    "    elif state['discriminant'] == 0:\n",
    "        return \"repeated_roots\"\n",
    "    else:\n",
    "        return \"no_real_roots\""
   ]
  },
  {
   "cell_type": "code",
   "execution_count": 13,
   "id": "d18bff4b",
   "metadata": {},
   "outputs": [],
   "source": [
    "graph = StateGraph(QuadState)\n",
    "\n",
    "graph.add_node('show_eq', show_eq)\n",
    "graph.add_node('cal_disc', cal_disc)\n",
    "graph.add_node('real_roots', real_roots)\n",
    "graph.add_node('repeated_roots', repeated_roots)\n",
    "graph.add_node('no_real_roots', no_real_roots)\n",
    "\n",
    "graph.add_edge(START, 'show_eq')\n",
    "graph.add_edge('show_eq', 'cal_disc')\n",
    "\n",
    "graph.add_conditional_edges('cal_disc', check_condition)\n",
    "graph.add_edge('real_roots', END)\n",
    "graph.add_edge('repeated_roots', END)\n",
    "graph.add_edge('no_real_roots', END)\n",
    "\n",
    "workflow = graph.compile()\n"
   ]
  },
  {
   "cell_type": "code",
   "execution_count": 14,
   "id": "0f52e0db",
   "metadata": {},
   "outputs": [
    {
     "data": {
      "image/png": "[encoded data removed]",
      "text/plain": [
       "<langgraph.graph.state.CompiledStateGraph object at 0x000001AD1D01CE10>"
      ]
     },
     "execution_count": 14,
     "metadata": {},
     "output_type": "execute_result"
    }
   ],
   "source": [
    "workflow"
   ]
  },
  {
   "cell_type": "code",
   "execution_count": 16,
   "id": "7171c40d",
   "metadata": {},
   "outputs": [
    {
     "data": {
      "text/plain": [
       "{'a': 2,\n",
       " 'b': 4,\n",
       " 'c': 2,\n",
       " 'equation': '2x24x2',\n",
       " 'discriminant': 0,\n",
       " 'result': 'Only repeating root is -1.0'}"
      ]
     },
     "execution_count": 16,
     "metadata": {},
     "output_type": "execute_result"
    }
   ],
   "source": [
    "initial_state = {\n",
    "    'a': 2,\n",
    "    'b': 4,\n",
    "    'c': 2\n",
    "}\n",
    "\n",
    "workflow.invoke(initial_state)"
   ]
  }
 ],
 "metadata": {
  "kernelspec": {
   "display_name": "venv",
   "language": "python",
   "name": "python3"
  },
  "language_info": {
   "codemirror_mode": {
    "name": "ipython",
    "version": 3
   },
   "file_extension": ".py",
   "mimetype": "text/x-python",
   "name": "python",
   "nbconvert_exporter": "python",
   "pygments_lexer": "ipython3",
   "version": "3.13.3"
  }
 },
 "nbformat": 4,
 "nbformat_minor": 5
}
